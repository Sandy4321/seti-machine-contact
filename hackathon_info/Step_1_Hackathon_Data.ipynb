{
 "cells": [
  {
   "cell_type": "code",
   "execution_count": null,
   "metadata": {
    "collapsed": true,
    "deletable": true,
    "editable": true
   },
   "outputs": [],
   "source": [
    "# Access Data for Hackathon\n"
   ]
  },
  {
   "cell_type": "code",
   "execution_count": null,
   "metadata": {
    "collapsed": true,
    "deletable": true,
    "editable": true
   },
   "outputs": [],
   "source": [
    "## Pull data from IBM Object Storage to your local machine\n",
    "\n",
    "The data are stored in containers on IBM Object Storage. You can access these data with HTTP calls. \n",
    "\n",
    "Data processing should take longer than reading the files from the network to Object Storage, so this should not create a bottleneck in your overall workflow on Spark Enterprise."
   ]
  },
  {
   "cell_type": "code",
   "execution_count": null,
   "metadata": {
    "collapsed": false,
    "deletable": true,
    "editable": true
   },
   "outputs": [],
   "source": [
    "# Uncomment to install ibmseti library. Important - make sure you upgrade\n",
    "# !pip install --user --upgrade ibmseti"
   ]
  },
  {
   "cell_type": "code",
   "execution_count": null,
   "metadata": {
    "collapsed": true,
    "deletable": true,
    "editable": true
   },
   "outputs": [],
   "source": [
    "import os\n",
    "import zipfile\n",
    "import ibmseti"
   ]
  },
  {
   "cell_type": "code",
   "execution_count": null,
   "metadata": {
    "collapsed": false,
    "deletable": true,
    "editable": true
   },
   "outputs": [],
   "source": [
    "### SET YOUR TEAM NAME HERE! Use this folder to save intermediate results\n",
    "mydatafolder = 'Machine_Contact_Enterprise_SETI'\n",
    "mydatafolder = os.path.join( os.environ['PWD'], mydatafolder ) \n",
    "if os.path.exists(mydatafolder) is False:\n",
    "    os.makedirs(mydatafolder)\n",
    "\n",
    "base_url = 'https://dal.objectstorage.open.softlayer.com/v1/AUTH_cdbef52bdf7a449c96936e1071f0a46b'\n",
    "\n",
    "basic_container = 'simsignals_basic_v2'\n",
    "basic4_zip_file = 'basic4.zip'\n",
    "basic_csv_container = 'simsignals_files'\n",
    "basic4_csv_file = 'public_list_basic_v2_26may_2017.csv'\n",
    "\n",
    "testset_container = 'simsignals_basic_v2_test'\n",
    "testset_zip_file = 'basic4_test.zip'\n",
    "testset_csv_container = 'simsignals_files'\n",
    "testset_csv_file = 'public_list_basic_testset_1june_2017.csv'"
   ]
  },
  {
   "cell_type": "code",
   "execution_count": null,
   "metadata": {
    "collapsed": false,
    "deletable": true,
    "editable": true
   },
   "outputs": [],
   "source": [
    "os.system('curl {}/{}/{} > {}'.format(base_url, basic_container, basic4_zip_file, mydatafolder + '/' + basic4_zip_file))\n",
    "os.system('curl {}/{}/{} > {}'.format(base_url, basic_csv_container, basic4_csv_file, mydatafolder + '/' + basic4_csv_file))"
   ]
  },
  {
   "cell_type": "code",
   "execution_count": null,
   "metadata": {
    "collapsed": false
   },
   "outputs": [],
   "source": [
    "os.system('curl {}/{}/{} > {}'.format(base_url, testset_container, testset_zip_file, mydatafolder + '/' + testset_zip_file))\n",
    "os.system('curl {}/{}/{} > {}'.format(base_url, testset_csv_container, testset_csv_file, mydatafolder + '/' + testset_csv_file))"
   ]
  },
  {
   "cell_type": "code",
   "execution_count": null,
   "metadata": {
    "collapsed": false,
    "deletable": true,
    "editable": true
   },
   "outputs": [],
   "source": [
    "!ls -al \"$mydatafolder\""
   ]
  },
  {
   "cell_type": "markdown",
   "metadata": {
    "deletable": true,
    "editable": true
   },
   "source": [
    "## Access data in notebook"
   ]
  },
  {
   "cell_type": "code",
   "execution_count": null,
   "metadata": {
    "collapsed": false,
    "deletable": true,
    "editable": true
   },
   "outputs": [],
   "source": [
    "zz = zipfile.ZipFile(mydatafolder + '/' + 'basic4.zip')\n",
    "basic4list = zz.namelist()[1:]\n",
    "firstfile = basic4list[0]\n",
    "aca = ibmseti.compamp.SimCompamp(zz.open(firstfile).read())\n",
    "aca.header() # this shows the classification"
   ]
  }
 ],
 "metadata": {
  "celltoolbar": "Raw Cell Format",
  "kernelspec": {
   "display_name": "Python 2 with Spark 1.6",
   "language": "python",
   "name": "python2"
  },
  "language_info": {
   "codemirror_mode": {
    "name": "ipython",
    "version": 2
   },
   "file_extension": ".py",
   "mimetype": "text/x-python",
   "name": "python",
   "nbconvert_exporter": "python",
   "pygments_lexer": "ipython2",
   "version": "2.7.11"
  }
 },
 "nbformat": 4,
 "nbformat_minor": 0
}
