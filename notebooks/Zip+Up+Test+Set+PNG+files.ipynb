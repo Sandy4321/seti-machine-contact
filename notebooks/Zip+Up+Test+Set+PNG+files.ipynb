{
 "cells": [
  {
   "cell_type": "code",
   "execution_count": null,
   "metadata": {
    "collapsed": true,
    "deletable": true,
    "editable": true
   },
   "outputs": [],
   "source": [
    "from __future__ import division\n",
    "\n",
    "import os\n",
    "import zipfile"
   ]
  },
  {
   "cell_type": "code",
   "execution_count": null,
   "metadata": {
    "collapsed": false
   },
   "outputs": [],
   "source": [
    "teamname = 'Machine_Contact_Enterprise_SETI'\n",
    "mydatafolder = os.path.join( os.environ['PWD'], teamname )      \n",
    "input_png_folder = mydatafolder + '/cleanPngsTestFinal'\n",
    "output_zip_folder = mydatafolder + '/zippedPngsTestFinal_4'\n",
    "workingIndexFile = os.path.join( mydatafolder + '/public_list_basic_test_hackathon_final.csv' )"
   ]
  },
  {
   "cell_type": "code",
   "execution_count": null,
   "metadata": {
    "collapsed": false
   },
   "outputs": [],
   "source": [
    "#open(workingIndexFile).read().split(',')"
   ]
  },
  {
   "cell_type": "code",
   "execution_count": null,
   "metadata": {
    "collapsed": false
   },
   "outputs": [],
   "source": [
    "ls -lah $mydatafolder/zippedPngsTestFinal_1"
   ]
  },
  {
   "cell_type": "markdown",
   "metadata": {
    "deletable": true,
    "editable": true
   },
   "source": [
    "# Create Test .zip Files"
   ]
  },
  {
   "cell_type": "code",
   "execution_count": null,
   "metadata": {
    "collapsed": false,
    "deletable": true,
    "editable": true
   },
   "outputs": [],
   "source": [
    "indexfile_rows = open(workingIndexFile).readlines()\n",
    "                                                    \n",
    "uuids_classes_as_list = indexfile_rows  [1:]#slice off the first line (header)\n",
    "  \n",
    "def row_to_json(row):\n",
    "    uuid = row.strip('\\n')  #strip \\n and split uuid\n",
    "    return {'uuid':uuid}\n",
    "\n",
    "\n",
    "uuids_classes_as_list = map(lambda row: row_to_json(row), uuids_classes_as_list)\n",
    "print \"found {} files\".format(len(uuids_classes_as_list))"
   ]
  },
  {
   "cell_type": "code",
   "execution_count": null,
   "metadata": {
    "collapsed": false,
    "deletable": true,
    "editable": true
   },
   "outputs": [],
   "source": [
    "#training_percentage = 0.00\n",
    "#test_percentage = 1.00\n",
    "\n",
    "#assert training_percentage + test_percentage <= 1.0\n",
    "\n",
    "#training_set_group_by_class = {}\n",
    "#test_set_group_by_class = {}\n",
    "#for k, v in uuids_group_by_class.iteritems():\n",
    "    \n",
    "#    total = len(v)\n",
    "#    training_size = int(total * training_percentage)\n",
    "#    test_size = int(total * test_percentage)\n",
    "#    \n",
    "#    training_set = v[:training_size]\n",
    "#    test_set = v[-1*test_size:]\n",
    "#    \n",
    "#    training_set_group_by_class[k] = training_set\n",
    "#    test_set_group_by_class[k] = test_set\n",
    "#    \n",
    "#    print '{}: training set size: {}'.format(k, len(training_set))\n",
    "#    print '{}: test set size: {}'.format(k, len(test_set))"
   ]
  },
  {
   "cell_type": "code",
   "execution_count": null,
   "metadata": {
    "collapsed": false,
    "deletable": true,
    "editable": true
   },
   "outputs": [],
   "source": [
    "if os.path.exists(output_zip_folder) is False:\n",
    "    os.makedirs(output_zip_folder)"
   ]
  },
  {
   "cell_type": "code",
   "execution_count": null,
   "metadata": {
    "collapsed": false
   },
   "outputs": [],
   "source": [
    "# Create the Zip files containing the test PNG files using the following naming convention:\n",
    "# testset_<NUMBER>_<CLASS>.zip (step 4 will break if a different naming convention is used)\n",
    "# Refer to https://www.ibm.com/watson/developercloud/visual-recognition/api/v3/#classify_an_image for ZIP size and content limitations:\n",
    "# \"The max number of images in a .zip file is limited to 20, and limited to 5 MB.\"\n",
    "fnames = [input_png_folder + '/' + vv['uuid'] + '.dat.png' for vv in uuids_classes_as_list]\n",
    "\n",
    "# archive counter\n",
    "count = 1\n",
    "# number of image files in archive counter\n",
    "image_count = 0\n",
    "for fn in fnames:\n",
    "\n",
    "    archive_name = '{}/testset_{}.zip'.format(output_zip_folder, count)\n",
    "\n",
    "    if os.path.exists(archive_name):\n",
    "        if os.path.getsize(archive_name) + os.path.getsize(fn) >= 4.8 * 1024 ** 2:\n",
    "            # current ZIP archive size + size of this file > max size (or at least close to); create new archive\n",
    "            count += 1\n",
    "            image_count = 0\n",
    "            archive_name = '{}/testset_{}.zip'.format(output_zip_folder, count)\n",
    "            print 'creating new archive', archive_name\n",
    "            zz = zipfile.ZipFile(archive_name, mode='w')\n",
    "        else:\n",
    "            zz = zipfile.ZipFile(archive_name, mode='a')\n",
    "    else:\n",
    "        print 'creating new archive', archive_name\n",
    "        zz = zipfile.ZipFile(archive_name, mode='w')\n",
    "\n",
    "    zz.write(fn)\n",
    "    zz.close()\n",
    "\n",
    "    image_count += 1\n",
    "    # the number of files > max number of files supported by API; create new archive\n",
    "    if image_count > 19:\n",
    "        count +=1\n",
    "        image_count = 0"
   ]
  }
 ],
 "metadata": {
  "kernelspec": {
   "display_name": "Python 2 with Spark 1.6",
   "language": "python",
   "name": "python2"
  },
  "language_info": {
   "codemirror_mode": {
    "name": "ipython",
    "version": 2
   },
   "file_extension": ".py",
   "mimetype": "text/x-python",
   "name": "python",
   "nbconvert_exporter": "python",
   "pygments_lexer": "ipython2",
   "version": "2.7.11"
  }
 },
 "nbformat": 4,
 "nbformat_minor": 0
}