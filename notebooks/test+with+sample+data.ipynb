{
 "cells": [
  {
   "cell_type": "markdown",
   "metadata": {
    "collapsed": true,
    "deletable": true,
    "editable": true
   },
   "source": [
    "# Watson Visual Recognition Training with Spectrogram Images from SETI Signal Data\n",
    "\n",
    "* https://www.ibm.com/watson/developercloud/visual-recognition/api/v3/\n",
    "* https://www.ibm.com/watson/developercloud/doc/visual-recognition/customizing.html\n",
    "* https://github.com/watson-developer-cloud/python-sdk\n",
    "* https://github.com/watson-developer-cloud/python-sdk/blob/master/watson_developer_cloud/visual_recognition_v3.py\n",
    "\n",
    "<hr>\n",
    "\n",
    "## Install the Watson Developer Cloud Python SDK\n",
    "\n",
    "* Install the Python SDK if has not been previously installed **`!pip install --upgrade watson-developer-cloud`**\n",
    "* Restart the kernel, after installing the SDK"
   ]
  },
  {
   "cell_type": "code",
   "execution_count": null,
   "metadata": {
    "collapsed": false,
    "deletable": true,
    "editable": true
   },
   "outputs": [],
   "source": [
    "#!pip install --user --upgrade watson-developer-cloud"
   ]
  },
  {
   "cell_type": "markdown",
   "metadata": {},
   "source": [
    "# WARNING: YOU MUST READ THIS.\n",
    "\n",
    "ALL TEAMS WILL BE SHARING A WATSON API KEY FOR THIS WEEKEND. \n",
    "\n",
    "THIS MEANS IT IS POSSIBLE FOR YOU TO ACCIDENTALLY DELETE ANOTHER TEAM'S CLASSIFIER. THIS IS BAD. DO NOT DO THIS.\n",
    "\n",
    "IF YOU NEED TO DELETE YOUR OWN CLASSIFIER IN ORDER TO START OVER, WHICH YOU MIGHT WANT TO DO, YOU CAN RUN THE CODE BELOW THAT DOES THIS, BUT DO NOT MODIFY THAT CODE. THAT CODE WILL CREATE AND DELETE YOUR TEAM'S CLASSIFIER."
   ]
  },
  {
   "cell_type": "code",
   "execution_count": 1,
   "metadata": {
    "collapsed": false,
    "deletable": true,
    "editable": true
   },
   "outputs": [],
   "source": [
    "#Making a local folder to put my data.\n",
    "\n",
    "### SET YOUR TEAM NAME HERE! Use this folder to save intermediate results\n",
    "teamname = \"Machine_Contact_Enterprise_SETI\"\n",
    "\n",
    "mydatafolder = os.path.join( os.environ['PWD'], teamname )  \n",
    "if os.path.exists(mydatafolder) is False:\n",
    "    raise Exception('This folder needs to already exist. See the Build_And_Package_Spectrograms_HackathonSpark notebook')\n",
    "    \n",
    "    \n",
    "zipfilefolder = mydatafolder + '/zipfiles'\n",
    "if os.path.exists(zipfilefolder) is False:\n",
    "    raise Exception('This folder needs to already exist. See the Build_And_Package_Spectrograms_HackathonSpark notebook')"
   ]
  },
  {
   "cell_type": "code",
   "execution_count": 2,
   "metadata": {
    "collapsed": true
   },
   "outputs": [],
   "source": [
    "from watson_developer_cloud import VisualRecognitionV3\n",
    "apiVer = VisualRecognitionV3.latest_version #'2016-05-20'\n",
    "classifier_prefix = teamname + \"_v1_\"\n",
    "\n",
    "#You can sign up with WatsonVR through Bluemix to get a key\n",
    "#However, Hackathon participants will be provided with a WATSON VR key that has more free API calls per day.\n",
    "apiKey = 'WATSON-VISUAL-RECOGNITION-API-KEY'  \n"
   ]
  },
  {
   "cell_type": "code",
   "execution_count": 3,
   "metadata": {
    "collapsed": true
   },
   "outputs": [],
   "source": [
    "# @hidden_cell\n",
    "apiKey = 'c70486e04c0e6ac12314da71f2fdb88992420c33'"
   ]
  },
  {
   "cell_type": "code",
   "execution_count": 4,
   "metadata": {
    "collapsed": false,
    "deletable": true,
    "editable": true
   },
   "outputs": [],
   "source": [
    "#!ls $mydatafolder/zipfiles"
   ]
  },
  {
   "cell_type": "code",
   "execution_count": 5,
   "metadata": {
    "collapsed": true,
    "deletable": true,
    "editable": true
   },
   "outputs": [],
   "source": [
    "from __future__ import division\n",
    "\n",
    "import cStringIO\n",
    "import glob\n",
    "import json\n",
    "import os\n",
    "import requests\n",
    "import time\n",
    "import timeit\n",
    "import zipfile\n",
    "import copy\n",
    "\n",
    "from random import randint\n",
    "\n",
    "import matplotlib.pyplot as plt\n",
    "import numpy as np\n",
    "\n",
    "import ibmseti\n",
    "\n"
   ]
  },
  {
   "cell_type": "markdown",
   "metadata": {
    "deletable": true,
    "editable": true
   },
   "source": [
    "<br/>\n",
    "## Init the Watson Visual Recognition Python Library\n",
    "\n",
    "* you may need to install the SDK first: **`!pip install --upgrade watson-developer-cloud`**\n",
    "* you will need the **API** key from the Watson Visual Recognition Service"
   ]
  },
  {
   "cell_type": "code",
   "execution_count": 6,
   "metadata": {
    "collapsed": true,
    "deletable": true,
    "editable": true
   },
   "outputs": [],
   "source": [
    "vr = VisualRecognitionV3(apiVer, api_key=apiKey)"
   ]
  },
  {
   "cell_type": "markdown",
   "metadata": {
    "deletable": true,
    "editable": true
   },
   "source": [
    "<br/>\n",
    "## Look For Existing Custom Classifier\n",
    "Use an existing custom classifier (and update) if one exists, else a new custom classifier will be created"
   ]
  },
  {
   "cell_type": "markdown",
   "metadata": {},
   "source": [
    "## WARNING: This next cell will delete custom classifiers\n",
    "# DO NOT DELETE OTHER TEAM'S CLASSIFIERS. "
   ]
  },
  {
   "cell_type": "code",
   "execution_count": 7,
   "metadata": {
    "collapsed": true,
    "deletable": true,
    "editable": true
   },
   "outputs": [],
   "source": [
    "## Run this cell ONLY IF you want to REMOVE your classifiers\n",
    "# Otherwise, the subsequent cell will append images to the `classifier_prefix` classifier\n",
    "\n",
    "## You can run this code below. It will delete a custom classifer that startswith your 'classifier_prefix', which is\n",
    "#    based on your teamname. \n",
    "\n",
    "# You can uncomment and run this code, but do NOT modify it. \n",
    "\n",
    "# If you have problems deleting your classifer, talk to an IBMer\n",
    "\n",
    "# classifiers = vr.list_classifiers()\n",
    "# for c in classifiers['classifiers']:\n",
    "#     if c['classifier_id'].startswith(classifier_prefix):\n",
    "#         vr.delete_classifier(c['classifier_id'])"
   ]
  },
  {
   "cell_type": "code",
   "execution_count": 8,
   "metadata": {
    "collapsed": false,
    "deletable": true,
    "editable": true
   },
   "outputs": [
    {
     "name": "stdout",
     "output_type": "stream",
     "text": [
      "No custom classifier available\r\n",
      "\n",
      "{\n",
      "  \"classifiers\": [\n",
      "    {\n",
      "      \"status\": \"ready\", \n",
      "      \"classifier_id\": \"Machine_Contact_Enterprise_SET_1466269118\", \n",
      "      \"name\": \"Machine_Contact_Enterprise_SETI_v1_\"\n",
      "    }, \n",
      "    {\n",
      "      \"status\": \"ready\", \n",
      "      \"classifier_id\": \"feedo_elwin_v1__1756785049\", \n",
      "      \"name\": \"feedo_elwin_v1_\"\n",
      "    }, \n",
      "    {\n",
      "      \"status\": \"ready\", \n",
      "      \"classifier_id\": \"SpinFlip_v1__348338520\", \n",
      "      \"name\": \"SpinFlip_v1_\"\n",
      "    }, \n",
      "    {\n",
      "      \"status\": \"ready\", \n",
      "      \"classifier_id\": \"team_magicai_v6_296521247\", \n",
      "      \"name\": \"team_magicai_v6\"\n",
      "    }, \n",
      "    {\n",
      "      \"status\": \"ready\", \n",
      "      \"classifier_id\": \"sanjoy_v_sanjoy__1846021728\", \n",
      "      \"name\": \"sanjoy_v_sanjoy_\"\n",
      "    }, \n",
      "    {\n",
      "      \"status\": \"ready\", \n",
      "      \"classifier_id\": \"team_magicai_v4_87105057\", \n",
      "      \"name\": \"team_magicai_v4\"\n",
      "    }, \n",
      "    {\n",
      "      \"status\": \"failed\", \n",
      "      \"classifier_id\": \"team_magicai_v3_reshape_262024401\", \n",
      "      \"name\": \"team_magicai_v3_reshape\"\n",
      "    }, \n",
      "    {\n",
      "      \"status\": \"failed\", \n",
      "      \"classifier_id\": \"team_magicai_v3_reshape_32476351\", \n",
      "      \"name\": \"team_magicai_v3_reshape\"\n",
      "    }, \n",
      "    {\n",
      "      \"status\": \"ready\", \n",
      "      \"classifier_id\": \"signymcsigface_v2__1627125940\", \n",
      "      \"name\": \"signymcsigface_v2_\"\n",
      "    }, \n",
      "    {\n",
      "      \"status\": \"ready\", \n",
      "      \"classifier_id\": \"signymcsigface_v0__1075218938\", \n",
      "      \"name\": \"signymcsigface_v0_\"\n",
      "    }, \n",
      "    {\n",
      "      \"status\": \"ready\", \n",
      "      \"classifier_id\": \"team_magicai_v1_hanning_cmap_2118069278\", \n",
      "      \"name\": \"team_magicai_v1_hanning_cmap\"\n",
      "    }, \n",
      "    {\n",
      "      \"status\": \"ready\", \n",
      "      \"classifier_id\": \"Machine_Contact_Enterprise_SET_100417127\", \n",
      "      \"name\": \"Machine_Contact_Enterprise_SETI_v1_\"\n",
      "    }, \n",
      "    {\n",
      "      \"status\": \"ready\", \n",
      "      \"classifier_id\": \"Machine_Contact_Enterprise_SET_549328565\", \n",
      "      \"name\": \"Machine_Contact_Enterprise_SETI_v1_\"\n",
      "    }, \n",
      "    {\n",
      "      \"status\": \"ready\", \n",
      "      \"classifier_id\": \"az_v2__139364110\", \n",
      "      \"name\": \"az_v2_\"\n",
      "    }, \n",
      "    {\n",
      "      \"status\": \"ready\", \n",
      "      \"classifier_id\": \"Machine_Contact_Enterprise_SET_778931065\", \n",
      "      \"name\": \"Machine_Contact_Enterprise_SETI_v1_\"\n",
      "    }, \n",
      "    {\n",
      "      \"status\": \"ready\", \n",
      "      \"classifier_id\": \"setisignals_570518428\", \n",
      "      \"name\": \"setisignals\"\n",
      "    }, \n",
      "    {\n",
      "      \"status\": \"failed\", \n",
      "      \"classifier_id\": \"team_magicai_v3_reshape_1061232705\", \n",
      "      \"name\": \"team_magicai_v3_reshape\"\n",
      "    }, \n",
      "    {\n",
      "      \"status\": \"ready\", \n",
      "      \"classifier_id\": \"team_magicai_v5_507891438\", \n",
      "      \"name\": \"team_magicai_v5\"\n",
      "    }, \n",
      "    {\n",
      "      \"status\": \"ready\", \n",
      "      \"classifier_id\": \"benders_v2__547575834\", \n",
      "      \"name\": \"benders_v2_\"\n",
      "    }, \n",
      "    {\n",
      "      \"status\": \"failed\", \n",
      "      \"classifier_id\": \"team_magicai_v3_reshape_325588270\", \n",
      "      \"name\": \"team_magicai_v3_reshape\"\n",
      "    }, \n",
      "    {\n",
      "      \"status\": \"failed\", \n",
      "      \"classifier_id\": \"team_magicai_v3_reshape_1756079060\", \n",
      "      \"name\": \"team_magicai_v3_reshape\"\n",
      "    }, \n",
      "    {\n",
      "      \"status\": \"ready\", \n",
      "      \"classifier_id\": \"signymcsigface_v1__164213500\", \n",
      "      \"name\": \"signymcsigface_v1_\"\n",
      "    }, \n",
      "    {\n",
      "      \"status\": \"ready\", \n",
      "      \"classifier_id\": \"team_magicai_v1_hanning_83924230\", \n",
      "      \"name\": \"team_magicai_v1_hanning\"\n",
      "    }, \n",
      "    {\n",
      "      \"status\": \"ready\", \n",
      "      \"classifier_id\": \"team_magicai_v1_hanning_subnoi_1960338433\", \n",
      "      \"name\": \"team_magicai_v1_hanning_subnoise\"\n",
      "    }, \n",
      "    {\n",
      "      \"status\": \"ready\", \n",
      "      \"classifier_id\": \"benders_v1__763838536\", \n",
      "      \"name\": \"benders_v1_\"\n",
      "    }, \n",
      "    {\n",
      "      \"status\": \"failed\", \n",
      "      \"classifier_id\": \"team_magicai_v3_reshape_758075139\", \n",
      "      \"name\": \"team_magicai_v3_reshape\"\n",
      "    }, \n",
      "    {\n",
      "      \"status\": \"ready\", \n",
      "      \"classifier_id\": \"team_magicai_v1_hanning_1017759471\", \n",
      "      \"name\": \"team_magicai_v1_hanning\"\n",
      "    }, \n",
      "    {\n",
      "      \"status\": \"failed\", \n",
      "      \"classifier_id\": \"team_magicai_v3_reshape_887066847\", \n",
      "      \"name\": \"team_magicai_v3_reshape\"\n",
      "    }, \n",
      "    {\n",
      "      \"status\": \"ready\", \n",
      "      \"classifier_id\": \"Machine_Contact_Enterprise_SET_842846996\", \n",
      "      \"name\": \"Machine_Contact_Enterprise_SETI_v1_\"\n",
      "    }, \n",
      "    {\n",
      "      \"status\": \"ready\", \n",
      "      \"classifier_id\": \"somesnow_v1__1209090150\", \n",
      "      \"name\": \"somesnow_v1_\"\n",
      "    }, \n",
      "    {\n",
      "      \"status\": \"ready\", \n",
      "      \"classifier_id\": \"team_magicai_v1_hanning_cmap_556884547\", \n",
      "      \"name\": \"team_magicai_v1_hanning_cmap\"\n",
      "    }, \n",
      "    {\n",
      "      \"status\": \"ready\", \n",
      "      \"classifier_id\": \"feedo_elwin_v2__830874962\", \n",
      "      \"name\": \"feedo_elwin_v2_\"\n",
      "    }, \n",
      "    {\n",
      "      \"status\": \"failed\", \n",
      "      \"classifier_id\": \"team_magicai_v3_reshape_643336019\", \n",
      "      \"name\": \"team_magicai_v3_reshape\"\n",
      "    }, \n",
      "    {\n",
      "      \"status\": \"ready\", \n",
      "      \"classifier_id\": \"team_magicai_v1_hanning_aspect_781042294\", \n",
      "      \"name\": \"team_magicai_v1_hanning_aspect\"\n",
      "    }, \n",
      "    {\n",
      "      \"status\": \"ready\", \n",
      "      \"classifier_id\": \"team_magicai_v7_1685187094\", \n",
      "      \"name\": \"team_magicai_v7\"\n",
      "    }, \n",
      "    {\n",
      "      \"status\": \"failed\", \n",
      "      \"classifier_id\": \"team_magicai_v3_reshape_1821871171\", \n",
      "      \"name\": \"team_magicai_v3_reshape\"\n",
      "    }, \n",
      "    {\n",
      "      \"status\": \"ready\", \n",
      "      \"classifier_id\": \"feedo_elwin_v0__1538452593\", \n",
      "      \"name\": \"feedo_elwin_v0_\"\n",
      "    }\n",
      "  ]\n",
      "}\n"
     ]
    }
   ],
   "source": [
    "#Find the classifier ID for your latest TEAMNAME classifier if it already exists\n",
    "\n",
    "classifier_id = None\n",
    "classifier = None\n",
    "\n",
    "classifiers = vr.list_classifiers()\n",
    "\n",
    "for c in classifiers['classifiers']:\n",
    "    if c['status'] == 'ready' and (classifier_prefix in c['classifier_id']):\n",
    "        classifier_id = c['classifier_id']\n",
    "\n",
    "\n",
    "if classifier_id is not None:\n",
    "    classifier = vr.get_classifier(classifier_id)\n",
    "    print '\\r\\nFound classifer:\\r\\n\\r\\n{}'.format(json.dumps(classifier, indent=2))\n",
    "else:\n",
    "    print 'No custom classifier available\\r\\n'\n",
    "    print(json.dumps(classifiers, indent=2))"
   ]
  },
  {
   "cell_type": "markdown",
   "metadata": {
    "deletable": true,
    "editable": true
   },
   "source": [
    "<br/>\n",
    "## Send the Images Archives to the Watson Visual Recognition Service for Training\n",
    "\n",
    "* https://www.ibm.com/watson/developercloud/doc/visual-recognition/customizing.html\n",
    "* https://www.ibm.com/watson/developercloud/visual-recognition/api/v3/\n",
    "* https://github.com/watson-developer-cloud/python-sdk"
   ]
  },
  {
   "cell_type": "code",
   "execution_count": 9,
   "metadata": {
    "collapsed": false,
    "deletable": true,
    "editable": true
   },
   "outputs": [
    {
     "name": "stdout",
     "output_type": "stream",
     "text": [
      "Adding custom classifier ... this may take awhile\n",
      "Creating new classifier. Batch 0\n"
     ]
    },
    {
     "ename": "KeyboardInterrupt",
     "evalue": "",
     "output_type": "error",
     "traceback": [
      "\u001b[0;31m\u001b[0m",
      "\u001b[0;31mKeyboardInterrupt\u001b[0mTraceback (most recent call last)",
      "\u001b[0;32m<ipython-input-9-e0c2f21e8d80>\u001b[0m in \u001b[0;36m<module>\u001b[0;34m()\u001b[0m\n\u001b[1;32m     44\u001b[0m             \u001b[0mnarrowband_positive_examples\u001b[0m \u001b[0;34m=\u001b[0m \u001b[0mnarrowband_p\u001b[0m\u001b[0;34m,\u001b[0m\u001b[0;34m\u001b[0m\u001b[0m\n\u001b[1;32m     45\u001b[0m             \u001b[0mnarrowbanddrd_positive_examples\u001b[0m \u001b[0;34m=\u001b[0m \u001b[0mnarrowbanddrd_p\u001b[0m\u001b[0;34m,\u001b[0m\u001b[0;34m\u001b[0m\u001b[0m\n\u001b[0;32m---> 46\u001b[0;31m             \u001b[0mnoise_positive_examples\u001b[0m \u001b[0;34m=\u001b[0m \u001b[0mnoise_p\u001b[0m\u001b[0;34m\u001b[0m\u001b[0m\n\u001b[0m\u001b[1;32m     47\u001b[0m             \u001b[0;31m#brightpixel_positive_examples = brightpixel_p,\u001b[0m\u001b[0;34m\u001b[0m\u001b[0;34m\u001b[0m\u001b[0m\n\u001b[1;32m     48\u001b[0m             \u001b[0;31m#squarepulsednarrowband_positive_examples = squarepulsednarrowband_p,\u001b[0m\u001b[0;34m\u001b[0m\u001b[0;34m\u001b[0m\u001b[0m\n",
      "\u001b[0;32m/gpfs/fs01/user/s18f-42b3305d048694-5fca760d00b1/.local/lib/python2.7/site-packages/watson_developer_cloud/visual_recognition_v3.pyc\u001b[0m in \u001b[0;36mcreate_classifier\u001b[0;34m(self, name, **kwargs)\u001b[0m\n\u001b[1;32m     94\u001b[0m         return self.request(method='POST', url='/v3/classifiers', files=kwargs,\n\u001b[1;32m     95\u001b[0m                             \u001b[0mdata\u001b[0m\u001b[0;34m=\u001b[0m\u001b[0mdata\u001b[0m\u001b[0;34m,\u001b[0m \u001b[0mparams\u001b[0m\u001b[0;34m=\u001b[0m\u001b[0mparams\u001b[0m\u001b[0;34m,\u001b[0m\u001b[0;34m\u001b[0m\u001b[0m\n\u001b[0;32m---> 96\u001b[0;31m                             accept_json=True)\n\u001b[0m\u001b[1;32m     97\u001b[0m \u001b[0;34m\u001b[0m\u001b[0m\n\u001b[1;32m     98\u001b[0m     \u001b[0;32mdef\u001b[0m \u001b[0mupdate_classifier\u001b[0m\u001b[0;34m(\u001b[0m\u001b[0mself\u001b[0m\u001b[0;34m,\u001b[0m \u001b[0mclassifier_id\u001b[0m\u001b[0;34m,\u001b[0m \u001b[0;34m**\u001b[0m\u001b[0mkwargs\u001b[0m\u001b[0;34m)\u001b[0m\u001b[0;34m:\u001b[0m\u001b[0;34m\u001b[0m\u001b[0m\n",
      "\u001b[0;32m/gpfs/fs01/user/s18f-42b3305d048694-5fca760d00b1/.local/lib/python2.7/site-packages/watson_developer_cloud/watson_developer_cloud_service.pyc\u001b[0m in \u001b[0;36mrequest\u001b[0;34m(self, method, url, accept_json, headers, params, json, data, files, **kwargs)\u001b[0m\n\u001b[1;32m    300\u001b[0m                                     \u001b[0mheaders\u001b[0m\u001b[0;34m=\u001b[0m\u001b[0mheaders\u001b[0m\u001b[0;34m,\u001b[0m\u001b[0;34m\u001b[0m\u001b[0m\n\u001b[1;32m    301\u001b[0m                                     \u001b[0mparams\u001b[0m\u001b[0;34m=\u001b[0m\u001b[0mparams\u001b[0m\u001b[0;34m,\u001b[0m \u001b[0mdata\u001b[0m\u001b[0;34m=\u001b[0m\u001b[0mdata\u001b[0m\u001b[0;34m,\u001b[0m \u001b[0mfiles\u001b[0m\u001b[0;34m=\u001b[0m\u001b[0mfiles\u001b[0m\u001b[0;34m,\u001b[0m\u001b[0;34m\u001b[0m\u001b[0m\n\u001b[0;32m--> 302\u001b[0;31m                                     **kwargs)\n\u001b[0m\u001b[1;32m    303\u001b[0m \u001b[0;34m\u001b[0m\u001b[0m\n\u001b[1;32m    304\u001b[0m         \u001b[0;32mif\u001b[0m \u001b[0;36m200\u001b[0m \u001b[0;34m<=\u001b[0m \u001b[0mresponse\u001b[0m\u001b[0;34m.\u001b[0m\u001b[0mstatus_code\u001b[0m \u001b[0;34m<=\u001b[0m \u001b[0;36m299\u001b[0m\u001b[0;34m:\u001b[0m\u001b[0;34m\u001b[0m\u001b[0m\n",
      "\u001b[0;32m/gpfs/fs01/user/s18f-42b3305d048694-5fca760d00b1/.local/lib/python2.7/site-packages/requests/api.pyc\u001b[0m in \u001b[0;36mrequest\u001b[0;34m(method, url, **kwargs)\u001b[0m\n\u001b[1;32m     56\u001b[0m     \u001b[0;31m# cases, and look like a memory leak in others.\u001b[0m\u001b[0;34m\u001b[0m\u001b[0;34m\u001b[0m\u001b[0m\n\u001b[1;32m     57\u001b[0m     \u001b[0;32mwith\u001b[0m \u001b[0msessions\u001b[0m\u001b[0;34m.\u001b[0m\u001b[0mSession\u001b[0m\u001b[0;34m(\u001b[0m\u001b[0;34m)\u001b[0m \u001b[0;32mas\u001b[0m \u001b[0msession\u001b[0m\u001b[0;34m:\u001b[0m\u001b[0;34m\u001b[0m\u001b[0m\n\u001b[0;32m---> 58\u001b[0;31m         \u001b[0;32mreturn\u001b[0m \u001b[0msession\u001b[0m\u001b[0;34m.\u001b[0m\u001b[0mrequest\u001b[0m\u001b[0;34m(\u001b[0m\u001b[0mmethod\u001b[0m\u001b[0;34m=\u001b[0m\u001b[0mmethod\u001b[0m\u001b[0;34m,\u001b[0m \u001b[0murl\u001b[0m\u001b[0;34m=\u001b[0m\u001b[0murl\u001b[0m\u001b[0;34m,\u001b[0m \u001b[0;34m**\u001b[0m\u001b[0mkwargs\u001b[0m\u001b[0;34m)\u001b[0m\u001b[0;34m\u001b[0m\u001b[0m\n\u001b[0m\u001b[1;32m     59\u001b[0m \u001b[0;34m\u001b[0m\u001b[0m\n\u001b[1;32m     60\u001b[0m \u001b[0;34m\u001b[0m\u001b[0m\n",
      "\u001b[0;32m/gpfs/fs01/user/s18f-42b3305d048694-5fca760d00b1/.local/lib/python2.7/site-packages/requests/sessions.pyc\u001b[0m in \u001b[0;36mrequest\u001b[0;34m(self, method, url, params, data, headers, cookies, files, auth, timeout, allow_redirects, proxies, hooks, stream, verify, cert, json)\u001b[0m\n\u001b[1;32m    511\u001b[0m         }\n\u001b[1;32m    512\u001b[0m         \u001b[0msend_kwargs\u001b[0m\u001b[0;34m.\u001b[0m\u001b[0mupdate\u001b[0m\u001b[0;34m(\u001b[0m\u001b[0msettings\u001b[0m\u001b[0;34m)\u001b[0m\u001b[0;34m\u001b[0m\u001b[0m\n\u001b[0;32m--> 513\u001b[0;31m         \u001b[0mresp\u001b[0m \u001b[0;34m=\u001b[0m \u001b[0mself\u001b[0m\u001b[0;34m.\u001b[0m\u001b[0msend\u001b[0m\u001b[0;34m(\u001b[0m\u001b[0mprep\u001b[0m\u001b[0;34m,\u001b[0m \u001b[0;34m**\u001b[0m\u001b[0msend_kwargs\u001b[0m\u001b[0;34m)\u001b[0m\u001b[0;34m\u001b[0m\u001b[0m\n\u001b[0m\u001b[1;32m    514\u001b[0m \u001b[0;34m\u001b[0m\u001b[0m\n\u001b[1;32m    515\u001b[0m         \u001b[0;32mreturn\u001b[0m \u001b[0mresp\u001b[0m\u001b[0;34m\u001b[0m\u001b[0m\n",
      "\u001b[0;32m/gpfs/fs01/user/s18f-42b3305d048694-5fca760d00b1/.local/lib/python2.7/site-packages/requests/sessions.pyc\u001b[0m in \u001b[0;36msend\u001b[0;34m(self, request, **kwargs)\u001b[0m\n\u001b[1;32m    621\u001b[0m \u001b[0;34m\u001b[0m\u001b[0m\n\u001b[1;32m    622\u001b[0m         \u001b[0;31m# Send the request\u001b[0m\u001b[0;34m\u001b[0m\u001b[0;34m\u001b[0m\u001b[0m\n\u001b[0;32m--> 623\u001b[0;31m         \u001b[0mr\u001b[0m \u001b[0;34m=\u001b[0m \u001b[0madapter\u001b[0m\u001b[0;34m.\u001b[0m\u001b[0msend\u001b[0m\u001b[0;34m(\u001b[0m\u001b[0mrequest\u001b[0m\u001b[0;34m,\u001b[0m \u001b[0;34m**\u001b[0m\u001b[0mkwargs\u001b[0m\u001b[0;34m)\u001b[0m\u001b[0;34m\u001b[0m\u001b[0m\n\u001b[0m\u001b[1;32m    624\u001b[0m \u001b[0;34m\u001b[0m\u001b[0m\n\u001b[1;32m    625\u001b[0m         \u001b[0;31m# Total elapsed time of the request (approximately)\u001b[0m\u001b[0;34m\u001b[0m\u001b[0;34m\u001b[0m\u001b[0m\n",
      "\u001b[0;32m/gpfs/fs01/user/s18f-42b3305d048694-5fca760d00b1/.local/lib/python2.7/site-packages/requests/adapters.pyc\u001b[0m in \u001b[0;36msend\u001b[0;34m(self, request, stream, timeout, verify, cert, proxies)\u001b[0m\n\u001b[1;32m    438\u001b[0m                     \u001b[0mdecode_content\u001b[0m\u001b[0;34m=\u001b[0m\u001b[0mFalse\u001b[0m\u001b[0;34m,\u001b[0m\u001b[0;34m\u001b[0m\u001b[0m\n\u001b[1;32m    439\u001b[0m                     \u001b[0mretries\u001b[0m\u001b[0;34m=\u001b[0m\u001b[0mself\u001b[0m\u001b[0;34m.\u001b[0m\u001b[0mmax_retries\u001b[0m\u001b[0;34m,\u001b[0m\u001b[0;34m\u001b[0m\u001b[0m\n\u001b[0;32m--> 440\u001b[0;31m                     \u001b[0mtimeout\u001b[0m\u001b[0;34m=\u001b[0m\u001b[0mtimeout\u001b[0m\u001b[0;34m\u001b[0m\u001b[0m\n\u001b[0m\u001b[1;32m    441\u001b[0m                 )\n\u001b[1;32m    442\u001b[0m \u001b[0;34m\u001b[0m\u001b[0m\n",
      "\u001b[0;32m/gpfs/fs01/user/s18f-42b3305d048694-5fca760d00b1/.local/lib/python2.7/site-packages/urllib3/connectionpool.pyc\u001b[0m in \u001b[0;36murlopen\u001b[0;34m(self, method, url, body, headers, retries, redirect, assert_same_host, timeout, pool_timeout, release_conn, chunked, body_pos, **response_kw)\u001b[0m\n\u001b[1;32m    598\u001b[0m                                                   \u001b[0mtimeout\u001b[0m\u001b[0;34m=\u001b[0m\u001b[0mtimeout_obj\u001b[0m\u001b[0;34m,\u001b[0m\u001b[0;34m\u001b[0m\u001b[0m\n\u001b[1;32m    599\u001b[0m                                                   \u001b[0mbody\u001b[0m\u001b[0;34m=\u001b[0m\u001b[0mbody\u001b[0m\u001b[0;34m,\u001b[0m \u001b[0mheaders\u001b[0m\u001b[0;34m=\u001b[0m\u001b[0mheaders\u001b[0m\u001b[0;34m,\u001b[0m\u001b[0;34m\u001b[0m\u001b[0m\n\u001b[0;32m--> 600\u001b[0;31m                                                   chunked=chunked)\n\u001b[0m\u001b[1;32m    601\u001b[0m \u001b[0;34m\u001b[0m\u001b[0m\n\u001b[1;32m    602\u001b[0m             \u001b[0;31m# If we're going to release the connection in ``finally:``, then\u001b[0m\u001b[0;34m\u001b[0m\u001b[0;34m\u001b[0m\u001b[0m\n",
      "\u001b[0;32m/gpfs/fs01/user/s18f-42b3305d048694-5fca760d00b1/.local/lib/python2.7/site-packages/urllib3/connectionpool.pyc\u001b[0m in \u001b[0;36m_make_request\u001b[0;34m(self, conn, method, url, timeout, chunked, **httplib_request_kw)\u001b[0m\n\u001b[1;32m    377\u001b[0m         \u001b[0;32mtry\u001b[0m\u001b[0;34m:\u001b[0m\u001b[0;34m\u001b[0m\u001b[0m\n\u001b[1;32m    378\u001b[0m             \u001b[0;32mtry\u001b[0m\u001b[0;34m:\u001b[0m  \u001b[0;31m# Python 2.7, use buffering of HTTP responses\u001b[0m\u001b[0;34m\u001b[0m\u001b[0m\n\u001b[0;32m--> 379\u001b[0;31m                 \u001b[0mhttplib_response\u001b[0m \u001b[0;34m=\u001b[0m \u001b[0mconn\u001b[0m\u001b[0;34m.\u001b[0m\u001b[0mgetresponse\u001b[0m\u001b[0;34m(\u001b[0m\u001b[0mbuffering\u001b[0m\u001b[0;34m=\u001b[0m\u001b[0mTrue\u001b[0m\u001b[0;34m)\u001b[0m\u001b[0;34m\u001b[0m\u001b[0m\n\u001b[0m\u001b[1;32m    380\u001b[0m             \u001b[0;32mexcept\u001b[0m \u001b[0mTypeError\u001b[0m\u001b[0;34m:\u001b[0m  \u001b[0;31m# Python 2.6 and older, Python 3\u001b[0m\u001b[0;34m\u001b[0m\u001b[0m\n\u001b[1;32m    381\u001b[0m                 \u001b[0;32mtry\u001b[0m\u001b[0;34m:\u001b[0m\u001b[0;34m\u001b[0m\u001b[0m\n",
      "\u001b[0;32m/usr/local/src/bluemix_jupyter_bundle.v46/notebook/lib/python2.7/httplib.pyc\u001b[0m in \u001b[0;36mgetresponse\u001b[0;34m(self, buffering)\u001b[0m\n\u001b[1;32m   1134\u001b[0m \u001b[0;34m\u001b[0m\u001b[0m\n\u001b[1;32m   1135\u001b[0m         \u001b[0;32mtry\u001b[0m\u001b[0;34m:\u001b[0m\u001b[0;34m\u001b[0m\u001b[0m\n\u001b[0;32m-> 1136\u001b[0;31m             \u001b[0mresponse\u001b[0m\u001b[0;34m.\u001b[0m\u001b[0mbegin\u001b[0m\u001b[0;34m(\u001b[0m\u001b[0;34m)\u001b[0m\u001b[0;34m\u001b[0m\u001b[0m\n\u001b[0m\u001b[1;32m   1137\u001b[0m             \u001b[0;32massert\u001b[0m \u001b[0mresponse\u001b[0m\u001b[0;34m.\u001b[0m\u001b[0mwill_close\u001b[0m \u001b[0;34m!=\u001b[0m \u001b[0m_UNKNOWN\u001b[0m\u001b[0;34m\u001b[0m\u001b[0m\n\u001b[1;32m   1138\u001b[0m             \u001b[0mself\u001b[0m\u001b[0;34m.\u001b[0m\u001b[0m__state\u001b[0m \u001b[0;34m=\u001b[0m \u001b[0m_CS_IDLE\u001b[0m\u001b[0;34m\u001b[0m\u001b[0m\n",
      "\u001b[0;32m/usr/local/src/bluemix_jupyter_bundle.v46/notebook/lib/python2.7/httplib.pyc\u001b[0m in \u001b[0;36mbegin\u001b[0;34m(self)\u001b[0m\n\u001b[1;32m    451\u001b[0m         \u001b[0;31m# read until we get a non-100 response\u001b[0m\u001b[0;34m\u001b[0m\u001b[0;34m\u001b[0m\u001b[0m\n\u001b[1;32m    452\u001b[0m         \u001b[0;32mwhile\u001b[0m \u001b[0mTrue\u001b[0m\u001b[0;34m:\u001b[0m\u001b[0;34m\u001b[0m\u001b[0m\n\u001b[0;32m--> 453\u001b[0;31m             \u001b[0mversion\u001b[0m\u001b[0;34m,\u001b[0m \u001b[0mstatus\u001b[0m\u001b[0;34m,\u001b[0m \u001b[0mreason\u001b[0m \u001b[0;34m=\u001b[0m \u001b[0mself\u001b[0m\u001b[0;34m.\u001b[0m\u001b[0m_read_status\u001b[0m\u001b[0;34m(\u001b[0m\u001b[0;34m)\u001b[0m\u001b[0;34m\u001b[0m\u001b[0m\n\u001b[0m\u001b[1;32m    454\u001b[0m             \u001b[0;32mif\u001b[0m \u001b[0mstatus\u001b[0m \u001b[0;34m!=\u001b[0m \u001b[0mCONTINUE\u001b[0m\u001b[0;34m:\u001b[0m\u001b[0;34m\u001b[0m\u001b[0m\n\u001b[1;32m    455\u001b[0m                 \u001b[0;32mbreak\u001b[0m\u001b[0;34m\u001b[0m\u001b[0m\n",
      "\u001b[0;32m/usr/local/src/bluemix_jupyter_bundle.v46/notebook/lib/python2.7/httplib.pyc\u001b[0m in \u001b[0;36m_read_status\u001b[0;34m(self)\u001b[0m\n\u001b[1;32m    407\u001b[0m     \u001b[0;32mdef\u001b[0m \u001b[0m_read_status\u001b[0m\u001b[0;34m(\u001b[0m\u001b[0mself\u001b[0m\u001b[0;34m)\u001b[0m\u001b[0;34m:\u001b[0m\u001b[0;34m\u001b[0m\u001b[0m\n\u001b[1;32m    408\u001b[0m         \u001b[0;31m# Initialize with Simple-Response defaults\u001b[0m\u001b[0;34m\u001b[0m\u001b[0;34m\u001b[0m\u001b[0m\n\u001b[0;32m--> 409\u001b[0;31m         \u001b[0mline\u001b[0m \u001b[0;34m=\u001b[0m \u001b[0mself\u001b[0m\u001b[0;34m.\u001b[0m\u001b[0mfp\u001b[0m\u001b[0;34m.\u001b[0m\u001b[0mreadline\u001b[0m\u001b[0;34m(\u001b[0m\u001b[0m_MAXLINE\u001b[0m \u001b[0;34m+\u001b[0m \u001b[0;36m1\u001b[0m\u001b[0;34m)\u001b[0m\u001b[0;34m\u001b[0m\u001b[0m\n\u001b[0m\u001b[1;32m    410\u001b[0m         \u001b[0;32mif\u001b[0m \u001b[0mlen\u001b[0m\u001b[0;34m(\u001b[0m\u001b[0mline\u001b[0m\u001b[0;34m)\u001b[0m \u001b[0;34m>\u001b[0m \u001b[0m_MAXLINE\u001b[0m\u001b[0;34m:\u001b[0m\u001b[0;34m\u001b[0m\u001b[0m\n\u001b[1;32m    411\u001b[0m             \u001b[0;32mraise\u001b[0m \u001b[0mLineTooLong\u001b[0m\u001b[0;34m(\u001b[0m\u001b[0;34m\"header line\"\u001b[0m\u001b[0;34m)\u001b[0m\u001b[0;34m\u001b[0m\u001b[0m\n",
      "\u001b[0;32m/usr/local/src/bluemix_jupyter_bundle.v46/notebook/lib/python2.7/socket.pyc\u001b[0m in \u001b[0;36mreadline\u001b[0;34m(self, size)\u001b[0m\n\u001b[1;32m    478\u001b[0m             \u001b[0;32mwhile\u001b[0m \u001b[0mTrue\u001b[0m\u001b[0;34m:\u001b[0m\u001b[0;34m\u001b[0m\u001b[0m\n\u001b[1;32m    479\u001b[0m                 \u001b[0;32mtry\u001b[0m\u001b[0;34m:\u001b[0m\u001b[0;34m\u001b[0m\u001b[0m\n\u001b[0;32m--> 480\u001b[0;31m                     \u001b[0mdata\u001b[0m \u001b[0;34m=\u001b[0m \u001b[0mself\u001b[0m\u001b[0;34m.\u001b[0m\u001b[0m_sock\u001b[0m\u001b[0;34m.\u001b[0m\u001b[0mrecv\u001b[0m\u001b[0;34m(\u001b[0m\u001b[0mself\u001b[0m\u001b[0;34m.\u001b[0m\u001b[0m_rbufsize\u001b[0m\u001b[0;34m)\u001b[0m\u001b[0;34m\u001b[0m\u001b[0m\n\u001b[0m\u001b[1;32m    481\u001b[0m                 \u001b[0;32mexcept\u001b[0m \u001b[0merror\u001b[0m\u001b[0;34m,\u001b[0m \u001b[0me\u001b[0m\u001b[0;34m:\u001b[0m\u001b[0;34m\u001b[0m\u001b[0m\n\u001b[1;32m    482\u001b[0m                     \u001b[0;32mif\u001b[0m \u001b[0me\u001b[0m\u001b[0;34m.\u001b[0m\u001b[0margs\u001b[0m\u001b[0;34m[\u001b[0m\u001b[0;36m0\u001b[0m\u001b[0;34m]\u001b[0m \u001b[0;34m==\u001b[0m \u001b[0mEINTR\u001b[0m\u001b[0;34m:\u001b[0m\u001b[0;34m\u001b[0m\u001b[0m\n",
      "\u001b[0;32m/usr/local/src/bluemix_jupyter_bundle.v46/notebook/lib/python2.7/ssl.pyc\u001b[0m in \u001b[0;36mrecv\u001b[0;34m(self, buflen, flags)\u001b[0m\n\u001b[1;32m    732\u001b[0m                     \u001b[0;34m\"non-zero flags not allowed in calls to recv() on %s\"\u001b[0m \u001b[0;34m%\u001b[0m\u001b[0;34m\u001b[0m\u001b[0m\n\u001b[1;32m    733\u001b[0m                     self.__class__)\n\u001b[0;32m--> 734\u001b[0;31m             \u001b[0;32mreturn\u001b[0m \u001b[0mself\u001b[0m\u001b[0;34m.\u001b[0m\u001b[0mread\u001b[0m\u001b[0;34m(\u001b[0m\u001b[0mbuflen\u001b[0m\u001b[0;34m)\u001b[0m\u001b[0;34m\u001b[0m\u001b[0m\n\u001b[0m\u001b[1;32m    735\u001b[0m         \u001b[0;32melse\u001b[0m\u001b[0;34m:\u001b[0m\u001b[0;34m\u001b[0m\u001b[0m\n\u001b[1;32m    736\u001b[0m             \u001b[0;32mreturn\u001b[0m \u001b[0mself\u001b[0m\u001b[0;34m.\u001b[0m\u001b[0m_sock\u001b[0m\u001b[0;34m.\u001b[0m\u001b[0mrecv\u001b[0m\u001b[0;34m(\u001b[0m\u001b[0mbuflen\u001b[0m\u001b[0;34m,\u001b[0m \u001b[0mflags\u001b[0m\u001b[0;34m)\u001b[0m\u001b[0;34m\u001b[0m\u001b[0m\n",
      "\u001b[0;32m/usr/local/src/bluemix_jupyter_bundle.v46/notebook/lib/python2.7/ssl.pyc\u001b[0m in \u001b[0;36mread\u001b[0;34m(self, len, buffer)\u001b[0m\n\u001b[1;32m    619\u001b[0m                 \u001b[0mv\u001b[0m \u001b[0;34m=\u001b[0m \u001b[0mself\u001b[0m\u001b[0;34m.\u001b[0m\u001b[0m_sslobj\u001b[0m\u001b[0;34m.\u001b[0m\u001b[0mread\u001b[0m\u001b[0;34m(\u001b[0m\u001b[0mlen\u001b[0m\u001b[0;34m,\u001b[0m \u001b[0mbuffer\u001b[0m\u001b[0;34m)\u001b[0m\u001b[0;34m\u001b[0m\u001b[0m\n\u001b[1;32m    620\u001b[0m             \u001b[0;32melse\u001b[0m\u001b[0;34m:\u001b[0m\u001b[0;34m\u001b[0m\u001b[0m\n\u001b[0;32m--> 621\u001b[0;31m                 \u001b[0mv\u001b[0m \u001b[0;34m=\u001b[0m \u001b[0mself\u001b[0m\u001b[0;34m.\u001b[0m\u001b[0m_sslobj\u001b[0m\u001b[0;34m.\u001b[0m\u001b[0mread\u001b[0m\u001b[0;34m(\u001b[0m\u001b[0mlen\u001b[0m \u001b[0;32mor\u001b[0m \u001b[0;36m1024\u001b[0m\u001b[0;34m)\u001b[0m\u001b[0;34m\u001b[0m\u001b[0m\n\u001b[0m\u001b[1;32m    622\u001b[0m             \u001b[0;32mreturn\u001b[0m \u001b[0mv\u001b[0m\u001b[0;34m\u001b[0m\u001b[0m\n\u001b[1;32m    623\u001b[0m         \u001b[0;32mexcept\u001b[0m \u001b[0mSSLError\u001b[0m \u001b[0;32mas\u001b[0m \u001b[0mx\u001b[0m\u001b[0;34m:\u001b[0m\u001b[0;34m\u001b[0m\u001b[0m\n",
      "\u001b[0;31mKeyboardInterrupt\u001b[0m: "
     ]
    }
   ],
   "source": [
    "squiggle = sorted(glob.glob('{}/classification_*_squiggle.zip'.format(zipfilefolder)))\n",
    "narrowband = sorted(glob.glob('{}/classification_*_narrowband.zip'.format(zipfilefolder)))\n",
    "narrowbanddrd = sorted(glob.glob('{}/classification_*_narrowbanddrd.zip'.format(zipfilefolder)))\n",
    "noise = sorted(glob.glob('{}/classification_*_noise.zip'.format(zipfilefolder)))\n",
    "#brightpixel = sorted(glob.glob('{}/classification_*_brightpixel.zip'.format(zipfilefolder)))\n",
    "#squarepulsednarrowband = sorted(glob.glob('{}/classification_*_squarepulsednarrowband.zip'.format(zipfilefolder)))\n",
    "#squigglesquarepulsednarrowband = sorted(glob.glob('{}/classification_*_squigglesquarepulsednarrowband.zip'.format(zipfilefolder)))\n",
    "\n",
    "sq = len(squiggle)\n",
    "nb = len(narrowband)\n",
    "nd = len(narrowbanddrd)\n",
    "ns = len(noise)\n",
    "#nbp = len(brightpixel)\n",
    "#nsp = len(squarepulsednarrowband)\n",
    "#nss = len(squigglesquarepulsednarrowband)\n",
    "\n",
    "## Possible todo here: Try using the 'noise' as a \"negative\" example when training Watson. See the Watson documentation.\n",
    "\n",
    "## for prototyping. \n",
    "num = 2\n",
    "#num = max(sq, nb, nd, ns)\n",
    "\n",
    "\n",
    "if classifier_id is None:\n",
    "    print 'Adding custom classifier ... this may take awhile'\n",
    "else:\n",
    "    print 'Updating custom classifier {} ... this may take awhile'.format(classifier_id)\n",
    "\n",
    "for i in range(num):\n",
    "    squiggle_p = open(squiggle[i], 'rb') if i < sq else None\n",
    "    narrowband_p = open(narrowband[i], 'rb') if i < nb else None\n",
    "    narrowbanddrd_p = open(narrowbanddrd[i], 'rb') if i < nd else None\n",
    "    noise_p = open(noise[i], 'rb') if i < ns else None\n",
    "    #brightpixel_p = open(brightpixel[i], 'rb') if i < nb else None\n",
    "    #squarepulsednarrowband_p = open(squarepulsednarrowband[i], 'rb') if i < nd else None\n",
    "    #squigglesquarepulsednarrowband_p = open(squigglesquarepulsednarrowband[i], 'rb') if i < ns else None\n",
    "    \n",
    "\n",
    "    if classifier_id is None:\n",
    "        print 'Creating new classifier. Batch {}'.format(i)\n",
    "        classifier = vr.create_classifier(\n",
    "            classifier_prefix,\n",
    "            squiggle_positive_examples = squiggle_p,\n",
    "            narrowband_positive_examples = narrowband_p,\n",
    "            narrowbanddrd_positive_examples = narrowbanddrd_p,\n",
    "            noise_positive_examples = noise_p\n",
    "            #brightpixel_positive_examples = brightpixel_p,\n",
    "            #squarepulsednarrowband_positive_examples = squarepulsednarrowband_p,\n",
    "            #squigglesquarepulsednarrowband_positive_examples = squigglesquarepulsednarrowband_p\n",
    "        )\n",
    "        \n",
    "        classifier_id = classifier['classifier_id']\n",
    "    else:\n",
    "        print 'Updating classifier. Batch {}'.format(i)\n",
    "        classifier = vr.update_classifier(\n",
    "            classifier_id,\n",
    "            squiggle_positive_examples = squiggle_p,\n",
    "            narrowband_positive_examples = narrowband_p,\n",
    "            narrowbanddrd_positive_examples = narrowbanddrd_p,\n",
    "            noise_positive_examples = noise_p\n",
    "            #brightpixel_positive_examples = brightpixel_p,\n",
    "            #squarepulsednarrowband_positive_examples = squarepulsednarrowband_p,\n",
    "            #squigglesquarepulsednarrowband_positive_examples = squigglesquarepulsednarrowband_p \n",
    "        )\n",
    "\n",
    "    if squiggle_p is not None:\n",
    "        squiggle_p.close()\n",
    "    if narrowband_p is not None:\n",
    "        narrowband_p.close()\n",
    "    if narrowbanddrd_p is not None:\n",
    "        narrowbanddrd_p.close()\n",
    "    if noise_p is not None:\n",
    "        noise_p.close()\n",
    "    #if brightpixel_p is not None:\n",
    "    #    brightpixel_p.close()\n",
    "    #if squarepulsednarrowband_p is not None:\n",
    "    #    squarepulsednarrowband_p.close()\n",
    "    #if squigglesquarepulsednarrowband_p is not None:\n",
    "    #    squigglesquarepulsednarrowband_p.close()\n",
    "\n",
    "    if classifier is not None:\n",
    "        print('Classifier: {}'.format(classifier_id))\n",
    "        status = classifier['status']\n",
    "        startTimer = timeit.default_timer()\n",
    "        while status in ['training', 'retraining']:\n",
    "            print('Status: {}'.format(status))\n",
    "            time.sleep(10)\n",
    "            classifier = vr.get_classifier(classifier_id)\n",
    "            status = classifier['status']\n",
    "        stopTimer = timeit.default_timer()\n",
    "        print '{} took {} minutes'.format('Training' if i == 0 else 'Retraining', int(stopTimer - startTimer) / 60)\n",
    "\n",
    "print(json.dumps(vr.get_classifier(classifier_id), indent=2))\n"
   ]
  },
  {
   "cell_type": "markdown",
   "metadata": {
    "deletable": true,
    "editable": true
   },
   "source": [
    "<br/>\n",
    "## Take a Random Data File for Testing\n",
    "\n",
    "* Take a random data file from the test set\n",
    "* Create a Spectrogram Image"
   ]
  },
  {
   "cell_type": "code",
   "execution_count": null,
   "metadata": {
    "collapsed": false,
    "deletable": true,
    "editable": true
   },
   "outputs": [],
   "source": [
    "zz = zipfile.ZipFile(zipfilefolder + '/' + 'testset_1_narrowband.zip')"
   ]
  },
  {
   "cell_type": "code",
   "execution_count": null,
   "metadata": {
    "collapsed": false,
    "deletable": true,
    "editable": true
   },
   "outputs": [],
   "source": [
    "test_list = zz.namelist()\n",
    "randomSignal = zz.open(test_list[9],'r')"
   ]
  },
  {
   "cell_type": "code",
   "execution_count": null,
   "metadata": {
    "collapsed": false,
    "deletable": true,
    "editable": true
   },
   "outputs": [],
   "source": [
    "from IPython.display import Image\n",
    "squigImg = randomSignal.read()\n",
    "Image(squigImg)"
   ]
  },
  {
   "cell_type": "code",
   "execution_count": null,
   "metadata": {
    "collapsed": false,
    "deletable": true,
    "editable": true
   },
   "outputs": [],
   "source": [
    "#note - have to 'open' this again because it was already .read() out in the line above\n",
    "randomSignal = zz.open(test_list[10],'r')\n",
    "\n",
    "url_result = vr.classify(images_file=randomSignal, classifier_ids=classifier_id, threshold=0.0)\n",
    "\n",
    "print(json.dumps(url_result, indent=2))"
   ]
  },
  {
   "cell_type": "markdown",
   "metadata": {
    "deletable": true,
    "editable": true
   },
   "source": [
    "<br/>\n",
    "## Run the Complete Test Set\n",
    "\n"
   ]
  },
  {
   "cell_type": "code",
   "execution_count": null,
   "metadata": {
    "collapsed": false,
    "deletable": true,
    "editable": true
   },
   "outputs": [],
   "source": [
    "#Create a dictionary object to store results from Watson\n",
    "\n",
    "from collections import defaultdict\n",
    "\n",
    "class_list = ['squiggle', 'noise', 'narrowband', 'narrowbanddrd']\n",
    "\n",
    "results_group_by_class = {}\n",
    "for classification in class_list:\n",
    "    results_group_by_class[classification] = defaultdict(list)\n",
    "    \n",
    "failed_to_classify_uuid_list = []\n",
    "\n",
    "print classifier_id\n",
    "\n",
    "results_group_by_class\n"
   ]
  },
  {
   "cell_type": "code",
   "execution_count": null,
   "metadata": {
    "collapsed": false
   },
   "outputs": [],
   "source": [
    "# locate test archives that were produced in step 3 and add them to the test set\n",
    "test_set = []\n",
    "for classification in class_list:\n",
    "    test_set = np.concatenate((test_set, sorted(glob.glob('{}/testset_*_{}.zip'.format(zipfilefolder, classification)))))"
   ]
  },
  {
   "cell_type": "code",
   "execution_count": null,
   "metadata": {
    "collapsed": false
   },
   "outputs": [],
   "source": [
    "test_set"
   ]
  },
  {
   "cell_type": "code",
   "execution_count": null,
   "metadata": {
    "collapsed": false
   },
   "outputs": [],
   "source": [
    "for image_archive_name in test_set:\n",
    "    image_count = 0\n",
    "    # count number of images in <image_archive_name>\n",
    "    with zipfile.ZipFile(image_archive_name,'r') as image_archive:\n",
    "        images = image_archive.namelist()\n",
    "        image_count = len(images)\n",
    "\n",
    "    # bulk classify images in <image_archive_name>\n",
    "    with open(image_archive_name, 'rb') as images_file:\n",
    "        print 'Running test ({} images) for {}... this may take a while.'.format(image_count, image_archive_name)\n",
    "        startTimer = timeit.default_timer()\n",
    "        classify_results = vr.classify(images_file=images_file, classifier_ids=[classifier_id], threshold=0.0)\n",
    "        # print(json.dumps(classify_results, indent=2))\n",
    "        # identify class from ZIP file name, e.g. testset_10_squiggle.zip\n",
    "        mo = re.match('^(.+)_(\\d+)_(.+)\\.zip$',image_archive_name.split('/')[-1])\n",
    "        classification = mo.group(3)\n",
    "        resdict = results_group_by_class[classification]\n",
    "        passed = 0\n",
    "            \n",
    "        for classify_result in classify_results['images']:\n",
    "            pngfilename = classify_result['image'].split('/')[-1]\n",
    "            uuid = pngfilename.split('.')[0]\n",
    "                \n",
    "            maxscore = 0\n",
    "            maxscoreclass = None\n",
    "\n",
    "            if \"error\" in classify_result:\n",
    "                # print error information\n",
    "                print classify_result\n",
    "                #add to failed list\n",
    "                failed_to_classify_uuid_list.append(uuid)                  \n",
    "            else:\n",
    "                classifiers_arr = classify_result['classifiers']\n",
    "                score_list = []\n",
    "                for classifier_result in classifiers_arr:\n",
    "                    for class_result in classifier_result['classes']:\n",
    "                        score_list.append((class_result['class'],class_result['score']))\n",
    "                        if class_result['score'] > maxscore:\n",
    "                            maxscore = class_result['score']\n",
    "                            maxscoreclass = class_result['class']\n",
    "                            \n",
    "                #sort alphabetically\n",
    "                score_list.sort(key = lambda x: x[0])\n",
    "                score_list = map(lambda x:x[1], score_list)\n",
    "                        \n",
    "                if maxscoreclass is None:\n",
    "                    print 'Failed: {} - Actual: {}, No classification returned'.format(pngfilename, classification)\n",
    "                    #print(json.dumps(classify_result, indent=2))\n",
    "                elif maxscoreclass != classification:\n",
    "                    print 'Failed: {} - Actual: {}, Watson Predicted: {} ({})'.format(pngfilename, classification, maxscoreclass, maxscore)\n",
    "                else:\n",
    "                    passed += 1\n",
    "                    print 'Passed: {} - Actual: {}, Watson Predicted: {} ({})'.format(pngfilename, classification, maxscoreclass, maxscore)\n",
    "\n",
    "                if maxscoreclass is not None:\n",
    "                    resdict['signal_classification'].append(classification)\n",
    "                    resdict['uuid'].append(uuid)\n",
    "                    resdict['watson_class'].append(maxscoreclass)\n",
    "                    resdict['watson_class_score'].append(maxscore)\n",
    "                    resdict['scores'].append(score_list)\n",
    "                else:\n",
    "                    #add to failed list\n",
    "                    failed_to_classify_uuid_list.append(uuid)                \n",
    "           \n",
    "        stopTimer = timeit.default_timer()\n",
    "        \n",
    "        print 'Test Score: {}% ({} of {} Passed)'.format(int((float(passed) / image_count) * 100), passed, image_count)\n",
    "        print 'Tested {} images in {} minutes'.format(image_count, int(stopTimer - startTimer) / 60)\n",
    "        \n",
    "print \"DONE.\""
   ]
  },
  {
   "cell_type": "code",
   "execution_count": null,
   "metadata": {
    "collapsed": true,
    "deletable": true,
    "editable": true
   },
   "outputs": [],
   "source": [
    "import pickle\n",
    "pickle.dump(results_group_by_class, open(mydatafolder + '/' + \"watson_results.pickle\", \"w\"))"
   ]
  },
  {
   "cell_type": "code",
   "execution_count": null,
   "metadata": {
    "collapsed": true,
    "deletable": true,
    "editable": true
   },
   "outputs": [],
   "source": [
    "watson_results = pickle.load(open(mydatafolder + '/' + \"watson_results.pickle\",\"r\"))\n",
    "# reorganize the watson_results dictionary to extract\n",
    "# a list of [true_class, [scores], estimated_class] and\n",
    "# use these for measuring our model's performance\n",
    "\n",
    "class_scores = []\n",
    "for k in watson_results.keys():\n",
    "    class_scores += zip(watson_results[k]['uuid'], watson_results[k]['signal_classification'], watson_results[k]['scores'], watson_results[k]['watson_class'] )"
   ]
  },
  {
   "cell_type": "code",
   "execution_count": null,
   "metadata": {
    "collapsed": false,
    "deletable": true,
    "editable": true
   },
   "outputs": [],
   "source": [
    "class_scores[100]"
   ]
  },
  {
   "cell_type": "code",
   "execution_count": null,
   "metadata": {
    "collapsed": false,
    "deletable": true,
    "editable": true
   },
   "outputs": [],
   "source": [
    "from sklearn.metrics import classification_report\n",
    "import sklearn\n",
    "\n",
    "y_train = [x[1] for x in class_scores]\n",
    "y_pred = [x[3] for x in class_scores]\n",
    "y_prob = [x[2] for x in class_scores]\n",
    "#we normalize the Watson score values to 1 in order to use them in the log_loss calculation even though the Watson VR scores are not true class prediction probabilities\n",
    "y_prob = map(lambda x: (x, sum(x)), y_prob)\n",
    "y_prob = map(lambda x: [y / x[1] for y in x[0]], y_prob)\n",
    "\n",
    "print sklearn.metrics.classification_report(y_train,y_pred)\n",
    "print sklearn.metrics.confusion_matrix(y_train,y_pred)\n",
    "print(\"Classification accuracy: %0.6f\" % sklearn.metrics.accuracy_score(y_train,y_pred) )\n",
    "print(\"Log Loss: %0.6f\" % sklearn.metrics.log_loss(y_train,y_prob) )"
   ]
  },
  {
   "cell_type": "markdown",
   "metadata": {
    "deletable": true,
    "editable": true
   },
   "source": [
    "# Generate CSV file for Scoreboard\n",
    "\n",
    "Here's an example of what the CSV file should look like for submission to the scoreboard. Although, in this case, we only have 4 classes instead of 7.\n",
    "\n",
    "#### NOTE: This uses the PNG files created in the Step 3 notebook, which only contain the BASIC4 data set. The code challenge and hackathon will be based on the Primary Data Set which contains 7 signal classes"
   ]
  },
  {
   "cell_type": "code",
   "execution_count": null,
   "metadata": {
    "collapsed": false,
    "deletable": true,
    "editable": true
   },
   "outputs": [],
   "source": [
    "import csv\n",
    "my_output_results = mydatafolder + '/' + 'watson_scores.csv'\n",
    "with open(my_output_results, 'w') as csvfile:\n",
    "    fwriter = csv.writer(csvfile, delimiter=',')\n",
    "    for row in class_scores:\n",
    "        fwriter.writerow([row[0]] + row[2])"
   ]
  },
  {
   "cell_type": "code",
   "execution_count": null,
   "metadata": {
    "collapsed": false,
    "deletable": true,
    "editable": true
   },
   "outputs": [],
   "source": [
    "#print out the first 10 lines just to show it makes sense\n",
    "\n",
    "!head -n 10 $mydatafolder/watson_scores.csv"
   ]
  },
  {
   "cell_type": "code",
   "execution_count": null,
   "metadata": {
    "collapsed": true,
    "deletable": true,
    "editable": true
   },
   "outputs": [],
   "source": [
    "credentials = {\n",
    "  'auth_uri':'',\n",
    "  'global_account_auth_uri':'',\n",
    "  'username':'xx',\n",
    "  'password':\"xx\",\n",
    "  'auth_url':'https://identity.open.softlayer.com',\n",
    "  'project':'xx',\n",
    "  'project_id':'xx',\n",
    "  'region':'dallas',\n",
    "  'user_id':'xx',\n",
    "  'domain_id':'xx',\n",
    "  'domain_name':'xx',\n",
    "  'tenantId':'xx'\n",
    "}\n",
    "\n",
    "import swiftclient.client as swiftclient\n",
    "\n",
    "conn = swiftclient.Connection(\n",
    "    key=credentials['password'],\n",
    "    authurl=credentials['auth_url']+\"/v3\",\n",
    "    auth_version='3',\n",
    "    os_options={\n",
    "        \"project_id\": credentials['project_id'],\n",
    "        \"user_id\": credentials['user_id'],\n",
    "        \"region_name\": credentials['region']})\n",
    "\n",
    "myObjectStorageContainer = 'hackathon_scores'  \n",
    "conn_seti_data.post_container(myObjectStorageContainer)  #creates a new container in your object storage\n",
    "\n",
    "#classification_results_file = 'my_team_name_data_folder/results/my_final_testset_classes.csv'\n",
    "etag = conn.put_object(myObjectStorageContainer, 'watson_scores.csv', open(my_output_results).read())\n"
   ]
  }
 ],
 "metadata": {
  "kernelspec": {
   "display_name": "Python 2 with Spark 2.1",
   "language": "python",
   "name": "python2-spark21"
  },
  "language_info": {
   "codemirror_mode": {
    "name": "ipython",
    "version": 2
   },
   "file_extension": ".py",
   "mimetype": "text/x-python",
   "name": "python",
   "nbconvert_exporter": "python",
   "pygments_lexer": "ipython2",
   "version": "2.7.11"
  }
 },
 "nbformat": 4,
 "nbformat_minor": 0
}